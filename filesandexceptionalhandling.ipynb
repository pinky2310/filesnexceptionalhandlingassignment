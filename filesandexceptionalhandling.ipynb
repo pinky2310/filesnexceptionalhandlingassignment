{
  "nbformat": 4,
  "nbformat_minor": 0,
  "metadata": {
    "colab": {
      "provenance": []
    },
    "kernelspec": {
      "name": "python3",
      "display_name": "Python 3"
    },
    "language_info": {
      "name": "python"
    }
  },
  "cells": [
    {
      "cell_type": "markdown",
      "source": [
        "#**Files, exceptional handling, logging and memory management**"
      ],
      "metadata": {
        "id": "fr6A9CT2ho8_"
      }
    },
    {
      "cell_type": "markdown",
      "source": [
        "##**THEORY QUESTIONS**"
      ],
      "metadata": {
        "id": "aqkIqoVNiJMT"
      }
    },
    {
      "cell_type": "markdown",
      "source": [
        "**1.What is the difference between interpreted and compiled languages?**\n",
        "   - **Interpreted Languages:**\n",
        "      - Execution: Code is executed line-by-line by an interpreter at runtime.\n",
        "Examples: Python.\n",
        "      - Advantages: Easier debugging, flexibility, platform independence.\n",
        "      - Disadvantages: Slower execution, requires an interpreter.\n",
        "    - **Compiled Languages:**\n",
        "      - Execution: Code is translated into machine code by a compiler before execution.\n",
        "Examples: C, C++, Rust.\n",
        "      - Advantages: Faster execution, error detection at compile time, optimization.\n",
        "      - Disadvantages: Longer development cycle, less flexibility (requires recompilation)."
      ],
      "metadata": {
        "id": "2yak1Tw3iRbm"
      }
    },
    {
      "cell_type": "markdown",
      "source": [
        "**2.What is exception handling in Python?**\n",
        "  - Exception handling in Python is a mechanism that allows developers to manage errors and exceptional conditions that occur during program execution without crashing the program. It provides a way to respond to runtime errors gracefully."
      ],
      "metadata": {
        "id": "_gx1Qv1wj7GM"
      }
    },
    {
      "cell_type": "markdown",
      "source": [
        "**3.What is the purpose of the finally block in exception handling?**\n",
        "  - The purpose of the finally block in exception handling is to define a block of code that will always execute, regardless of whether an exception was raised or not in the preceding try block. This is useful for performing cleanup actions, such as closing files, releasing resources, or executing any necessary finalization code."
      ],
      "metadata": {
        "id": "uOeYc-_yka_n"
      }
    },
    {
      "cell_type": "markdown",
      "source": [
        "**4.What is logging in Python?**\n",
        "  - Logging in Python refers to the process of recording messages that provide insights into the execution of a program. The Python logging module offers a flexible framework for emitting log messages from Python programs, which can be useful for debugging, monitoring, and auditing."
      ],
      "metadata": {
        "id": "_ZCsiE84kxso"
      }
    },
    {
      "cell_type": "markdown",
      "source": [
        "**5.** **What is the significance of the '__del__' method in Python?**\n",
        "  - The __del__ method in Python is a special method, also known as a destructor, that is called when an object is about to be destroyed. Its primary significance lies in resource management and cleanup operations."
      ],
      "metadata": {
        "id": "sQi0I7CslCfY"
      }
    },
    {
      "cell_type": "markdown",
      "source": [
        "**6.What is the difference between import and from ... import in Python?**\n",
        "  - **`import`**:\n",
        "   - Imports the entire module.\n",
        "   - Access requires the module name as a prefix.\n",
        "   - **Example**: `import math` → `math.sqrt(16)`\n",
        "\n",
        "- **`from ... import`**:\n",
        "  - Imports specific functions or classes directly.\n",
        "  - Access does not require the module name.\n",
        "  - **Example**: `from math import sqrt` → `sqrt(16)`"
      ],
      "metadata": {
        "id": "WTu8mezRlepZ"
      }
    },
    {
      "cell_type": "markdown",
      "source": [
        "**7.How can you handle multiple exceptions in Python?**\n",
        "  - Use a tuple in the except clause to catch multiple exceptions in one block.\n",
        "Example: except (ExceptionType1, ExceptionType2) as e:\n",
        "\n",
        "\n",
        "```\n",
        " try:\n",
        "     #Code that may raise exceptions\n",
        "    result = 10 / int(input(\"Enter a number: \"))\n",
        "except (ZeroDivisionError, ValueError) as e:\n",
        "    print(f\"An error occurred: {e}\")\n",
        "```\n",
        "\n"
      ],
      "metadata": {
        "id": "qBY-S1T0mKlV"
      }
    },
    {
      "cell_type": "markdown",
      "source": [
        "**8.What is the purpose of the with statement when handling files in Python?**\n",
        "  - The with statement in Python is used for file handling to ensure that files are automatically closed after their block of code is executed, even if an error occurs.\n",
        "\n",
        "\n",
        "```\n",
        "with open('file.txt', 'r') as file:\n",
        "    content = file.read()\n",
        "# File is automatically closed here\n",
        "```\n",
        "\n"
      ],
      "metadata": {
        "id": "8ymdlXeO3cR-"
      }
    },
    {
      "cell_type": "markdown",
      "source": [
        "**9.What is the difference between multithreading and multiprocessing?**\n",
        "  - Multithreading refers to the ability of a processor to execute multiple threads concurrently, where each thread runs a process.\n",
        "  - Multiprocessing refers to the ability of a system to run multiple processors in parallel, where each processor can run one or more threads.\n"
      ],
      "metadata": {
        "id": "9pwGD-fW4QFv"
      }
    },
    {
      "cell_type": "markdown",
      "source": [
        "**10.What are the advantages of using logging in a program?**\n",
        "   - Logging enhances debugging, monitoring, error tracking, compliance auditing, and configurability while providing persistent records and being non-intrusive to the codebase."
      ],
      "metadata": {
        "id": "t6fp6d8x4tdB"
      }
    },
    {
      "cell_type": "markdown",
      "source": [
        "**11.What is memory management in Python?**\n",
        "   - Memory management in Python refers to the process of allocating, using, and freeing memory during the execution of a program.  Python's memory management system simplifies the developer's task by automating memory allocation and deallocation, reducing the risk of memory leaks and other related issues."
      ],
      "metadata": {
        "id": "vl2wjwhI5I43"
      }
    },
    {
      "cell_type": "markdown",
      "source": [
        "**12.What are the basic steps involved in exception handling in Python?**\n",
        "  - The basic steps in exception handling in Python are:\n",
        "\n",
        "     - Try Block: Write code that may raise an exception.\n",
        "     -Except Block: Catch and handle specific exceptions.\n",
        "     -Else Block (Optional): Execute if no exceptions occur.\n",
        "     -Finally Block (Optional): Execute cleanup code regardless of exceptions.\n",
        "\n",
        "```\n",
        " try:\n",
        "    # Code that may raise an exception\n",
        "except SomeException:\n",
        "    # Handle exception\n",
        "else:\n",
        "    # Execute if no exception\n",
        "finally:\n",
        "    # Cleanup code\n",
        "```\n",
        "\n"
      ],
      "metadata": {
        "id": "G-phkvd16ov2"
      }
    },
    {
      "cell_type": "markdown",
      "source": [
        "**13.Why is memory management important in Python?**\n",
        "  - Memory management in Python is important for ensuring efficient resource use, preventing memory leaks, simplifying development through automatic garbage collection, enabling dynamic memory allocation, and enhancing application stability and reliability."
      ],
      "metadata": {
        "id": "cHoZa39d7YmN"
      }
    },
    {
      "cell_type": "markdown",
      "source": [
        "**14.What is the role of try and except in exception handling?**\n",
        "   - The role of `try` and `except` in exception handling is to allow a program to attempt a block of code (`try`) that may raise an exception, and to define how to respond to that exception (`except`) if it occurs, thereby preventing the program from crashing and enabling graceful error handling."
      ],
      "metadata": {
        "id": "FchvEiqO7tNY"
      }
    },
    {
      "cell_type": "markdown",
      "source": [
        "**15.How does Python's garbage collection system work?**\n",
        "- Python's garbage collection system uses reference counting and generational garbage collection to manage memory. It tracks the number of references to each object, reclaiming memory when the count drops to zero. To handle cyclical references, Python employs generational garbage collection, which categorizes objects by age and focuses on younger objects more frequently. The \"mark and sweep\" algorithm identifies unreachable objects by marking live ones and sweeping away the unmarked ones. This system automates memory management, helping prevent memory leaks and allowing developers to focus on coding."
      ],
      "metadata": {
        "id": "4mflAiJ_9QGx"
      }
    },
    {
      "cell_type": "markdown",
      "source": [
        "**16.What is the purpose of the else block in exception handling?**\n",
        "  - The purpose of the else block in exception handling is to define a section of code that executes only if no exceptions were raised in the preceding try block. This allows for a clear separation of error handling from the normal execution flow, ensuring that the code within the else block runs only when the try block completes successfully. This can improve code readability and maintainability by clearly indicating which code is intended to run in the absence of errors."
      ],
      "metadata": {
        "id": "Ail_zXkJ9nAb"
      }
    },
    {
      "cell_type": "markdown",
      "source": [
        "**17.What are the common logging levels in Python?**\n",
        "  - The common logging levels in Python are DEBUG (10), INFO (20), WARNING (30), ERROR (40), and CRITICAL (50), which categorize log messages by severity."
      ],
      "metadata": {
        "id": "Hst1N7uzbg8c"
      }
    },
    {
      "cell_type": "markdown",
      "source": [
        "**18.What is the difference between os.fork() and multiprocessing in Python?**\n",
        "  - `os.fork()` is a low-level, Unix-specific function that creates a child process by duplicating the parent process, while the `multiprocessing` module is a higher-level, cross-platform interface for creating and managing processes, simplifying parallel execution and inter-process communication."
      ],
      "metadata": {
        "id": "lRZE4KETb8CZ"
      }
    },
    {
      "cell_type": "markdown",
      "source": [
        "**19.What is the importance of closing a file in Python?**\n",
        "  - Closing a file in Python is important because it releases system resources, ensures data integrity, prevents memory leaks, and allows other processes to access the file."
      ],
      "metadata": {
        "id": "Bxxz5A9YcQTO"
      }
    },
    {
      "cell_type": "markdown",
      "source": [
        "**20.What is the difference between file.read() and file.readline() in Python?**\n",
        "  - file.read(): Reads the entire contents of the file as a single string, allowing you to access all data at once.\n",
        "\n",
        "  - file.readline(): Reads a single line from the file at a time, returning it as a string, and moves the file pointer to the next line for subsequent calls."
      ],
      "metadata": {
        "id": "SeKPN346cfNN"
      }
    },
    {
      "cell_type": "markdown",
      "source": [
        "**21.What is the logging module in Python used for?**\n",
        "- The logging module in Python is used for tracking events that occur during program execution, allowing developers to log messages at different severity levels (DEBUG, INFO, WARNING, ERROR, CRITICAL). It provides a flexible framework for outputting log messages to various destinations (such as console, files, or remote servers), facilitating debugging, monitoring, and maintaining applications."
      ],
      "metadata": {
        "id": "H6JwTTN_c6cv"
      }
    },
    {
      "cell_type": "markdown",
      "source": [
        "**22.What is the os module in Python used for in file handling?**\n",
        " - The `os` module in Python is used for file handling by providing functions to create, delete, rename, and manipulate files and directories, as well as perform path operations and manage environment variables."
      ],
      "metadata": {
        "id": "_WH3I4apdSc3"
      }
    },
    {
      "cell_type": "markdown",
      "source": [
        "**23.What are the challenges associated with memory management in Python?**\n",
        " - Challenges associated with memory management in Python include garbage collection overhead, potential memory leaks from cyclical references, memory fragmentation, limited control over allocation, and higher memory usage due to dynamic typing and object overhead."
      ],
      "metadata": {
        "id": "Yd5CqBuGdqVq"
      }
    },
    {
      "cell_type": "markdown",
      "source": [
        "**24.How do you raise an exception manually in Python?**\n",
        " - To raise an exception manually in Python, use the `raise` statement followed by the exception type and an optional message, like this: `raise ExceptionType(\"Error message\")`."
      ],
      "metadata": {
        "id": "t6_-cmded4pq"
      }
    },
    {
      "cell_type": "markdown",
      "source": [
        "**25.Why is it important to use multithreading in certain applications?**\n",
        "  - Multithreading is important in certain applications because it allows for concurrent execution of tasks, improving responsiveness and performance, especially in I/O-bound operations, and enhances resource utilization and application responsiveness."
      ],
      "metadata": {
        "id": "-fnOA0wZeLYi"
      }
    },
    {
      "cell_type": "markdown",
      "source": [
        "#**PRACTICAL QUESTIONS**"
      ],
      "metadata": {
        "id": "OEmlVuPQee23"
      }
    },
    {
      "cell_type": "markdown",
      "source": [
        "**1.How can you open a file for writing in Python and write a string to it?**\n",
        "  "
      ],
      "metadata": {
        "id": "H0SWZ-cneqyq"
      }
    },
    {
      "cell_type": "code",
      "source": [
        "# Open the file in write mode\n",
        "with open(\"example.txt\", \"w\") as file:\n",
        "    file.write(\"Hello, this is a test string!\")\n",
        "print(\"File written successfully!\")\n"
      ],
      "metadata": {
        "colab": {
          "base_uri": "https://localhost:8080/"
        },
        "id": "LN9pBwiNMgHd",
        "outputId": "211919cf-d2ad-46fc-e46e-ba666ffe4b2f"
      },
      "execution_count": 31,
      "outputs": [
        {
          "output_type": "stream",
          "name": "stdout",
          "text": [
            "File written successfully!\n"
          ]
        }
      ]
    },
    {
      "cell_type": "markdown",
      "source": [
        "**2.Write a Python program to read the contents of a file and print each line.**"
      ],
      "metadata": {
        "id": "2bhJK0THgwMi"
      }
    },
    {
      "cell_type": "code",
      "source": [
        "file = open(\"file.txt\", \"r\")\n",
        "print(file.read())"
      ],
      "metadata": {
        "colab": {
          "base_uri": "https://localhost:8080/"
        },
        "id": "AOlvMZU_gpcP",
        "outputId": "ea7906e6-896a-4f4f-e055-d006d105920a"
      },
      "execution_count": 3,
      "outputs": [
        {
          "output_type": "stream",
          "name": "stdout",
          "text": [
            "example string\n"
          ]
        }
      ]
    },
    {
      "cell_type": "markdown",
      "source": [
        "**3.How would you handle a case where the file doesn't exist while trying to open it for reading?**"
      ],
      "metadata": {
        "id": "F3ChQrOphPM6"
      }
    },
    {
      "cell_type": "code",
      "source": [
        "try:\n",
        "  with open(\"file1.txt\", \"r\") as file:\n",
        "    file\n",
        "except Exception as e:\n",
        "  print(e)\n",
        "else:\n",
        "  print(file.read())"
      ],
      "metadata": {
        "colab": {
          "base_uri": "https://localhost:8080/"
        },
        "id": "LVpPVjJthLbF",
        "outputId": "c3b4582e-a7da-48ea-fadf-68004ff71780"
      },
      "execution_count": 6,
      "outputs": [
        {
          "output_type": "stream",
          "name": "stdout",
          "text": [
            "[Errno 2] No such file or directory: 'file1.txt'\n"
          ]
        }
      ]
    },
    {
      "cell_type": "markdown",
      "source": [
        "**4.Write a Python script that reads from one file and writes its content to another file.**"
      ],
      "metadata": {
        "id": "SPod-meShzKP"
      }
    },
    {
      "cell_type": "code",
      "source": [
        "file = open(\"file.txt\", \"w\")\n",
        "file.write(\"line of the first file.\")\n",
        "\n",
        "file = open(\"file.txt\", \"r\")\n",
        "read_file = file.read()\n",
        "\n",
        "def create_file(x):\n",
        "    file2 = open(\"newfile.txt\", \"w\")\n",
        "    file2.write(x)\n",
        "\n",
        "create_file(read_file)"
      ],
      "metadata": {
        "id": "TAtZ4pLPhvJ0"
      },
      "execution_count": 10,
      "outputs": []
    },
    {
      "cell_type": "markdown",
      "source": [
        "**5.How would you catch and handle division by zero error in Python?**"
      ],
      "metadata": {
        "id": "lZo64vfPip9w"
      }
    },
    {
      "cell_type": "code",
      "source": [
        "try:\n",
        "  10/0\n",
        "except ZeroDivisionError as e:\n",
        "  print(\"there is a error =\",e)"
      ],
      "metadata": {
        "colab": {
          "base_uri": "https://localhost:8080/"
        },
        "id": "mQpCTjD6im61",
        "outputId": "458b9c36-bcfc-4d91-ed0b-64785eb4d64c"
      },
      "execution_count": 1,
      "outputs": [
        {
          "output_type": "stream",
          "name": "stdout",
          "text": [
            "there is a error = division by zero\n"
          ]
        }
      ]
    },
    {
      "cell_type": "markdown",
      "source": [
        "**6.Write a Python program that logs an error message to a log file when a division by zero exception occurs.**"
      ],
      "metadata": {
        "id": "LYLcArivGusH"
      }
    },
    {
      "cell_type": "code",
      "source": [
        "import logging\n",
        "\n",
        "# Configure logging to write errors to a file\n",
        "logging.basicConfig(filename=\"error_log.txt\", level=logging.ERROR,\n",
        "                    format=\"%(asctime)s - %(levelname)s - %(message)s\")\n",
        "\n",
        "def divide_numbers(a, b):\n",
        "    try:\n",
        "        result = a / b\n",
        "        return result\n",
        "    except ZeroDivisionError:\n",
        "        logging.error(\"Attempted to divide by zero.\")\n",
        "        print(\"Error: Division by zero is not allowed.\")\n",
        "\n",
        "# Example usage\n",
        "num1 = 10\n",
        "num2 = 0\n",
        "divide_numbers(num1, num2)\n",
        "\n",
        "print(\"Error has been logged in 'error_log.txt'.\")\n"
      ],
      "metadata": {
        "colab": {
          "base_uri": "https://localhost:8080/"
        },
        "id": "BV0t37_4GsrL",
        "outputId": "2b166fb0-d018-4319-9c58-25ff93c0980e"
      },
      "execution_count": 6,
      "outputs": [
        {
          "output_type": "stream",
          "name": "stderr",
          "text": [
            "ERROR:root:Attempted to divide by zero.\n"
          ]
        },
        {
          "output_type": "stream",
          "name": "stdout",
          "text": [
            "Error: Division by zero is not allowed.\n",
            "Error has been logged in 'error_log.txt'.\n"
          ]
        }
      ]
    },
    {
      "cell_type": "markdown",
      "source": [
        "**7.How do you log information at different levels (INFO, ERROR, WARNING) in Python using the logging module?**\n"
      ],
      "metadata": {
        "id": "2Ky0bNpsHh7X"
      }
    },
    {
      "cell_type": "code",
      "source": [
        "import logging\n",
        "\n",
        "# Configure the logging settings\n",
        "logging.basicConfig(level=logging.DEBUG, format='%(asctime)s - %(levelname)s - %(message)s')\n",
        "\n",
        "# Log messages at different levels\n",
        "logging.debug(\"This is a debug message.\")\n",
        "logging.info(\"This is an info message.\")\n",
        "logging.warning(\"This is a warning message.\")\n",
        "logging.error(\"This is an error message.\")\n",
        "logging.critical(\"This is a critical message.\")"
      ],
      "metadata": {
        "colab": {
          "base_uri": "https://localhost:8080/"
        },
        "id": "hinDlNDFHSxQ",
        "outputId": "9cc01632-4009-4f68-a491-c1b45a7497bf"
      },
      "execution_count": 10,
      "outputs": [
        {
          "output_type": "stream",
          "name": "stderr",
          "text": [
            "WARNING:root:This is a warning message.\n",
            "ERROR:root:This is an error message.\n",
            "CRITICAL:root:This is a critical message.\n"
          ]
        }
      ]
    },
    {
      "cell_type": "markdown",
      "source": [
        "**8.Write a program to handle a file opening error using exception handling.**"
      ],
      "metadata": {
        "id": "CoZLmrTNH0KX"
      }
    },
    {
      "cell_type": "code",
      "source": [
        "filename = 'example.txt'\n",
        "try:\n",
        "    with open(filename, 'r') as file:\n",
        "        content = file.read()\n",
        "        print(content)\n",
        "except FileNotFoundError:\n",
        "    print(f\"Error: The file '{filename}' does not exist.\")\n",
        "except IsADirectoryError:\n",
        "    print(f\"Error: Expected a file but found a directory: '{filename}'.\")\n",
        "except Exception as e:\n",
        "    print(f\"An unexpected error occurred: {e}\")"
      ],
      "metadata": {
        "colab": {
          "base_uri": "https://localhost:8080/"
        },
        "id": "ZTeb18uqHx6W",
        "outputId": "fd518853-d8c9-4330-c06c-959931d7664e"
      },
      "execution_count": 12,
      "outputs": [
        {
          "output_type": "stream",
          "name": "stdout",
          "text": [
            "Error: The file 'example.txt' does not exist.\n"
          ]
        }
      ]
    },
    {
      "cell_type": "markdown",
      "source": [
        "**9.How can you read a file line by line and store its content in a list in Python?**"
      ],
      "metadata": {
        "id": "Wwyk3LkLIM4e"
      }
    },
    {
      "cell_type": "code",
      "source": [
        "file = open(\"test_file.txt\", \"w\") #first create a file named test_file.txt and add lines to it using write mode.\n",
        "file.write(\"line 1,\")\n",
        "file.write(\"line 2, \")\n",
        "file.write(\"line 3, \")\n",
        "file.close()\n",
        "\n",
        "file = open(\"test_file.txt\", \"r\") #open file in read mode.\n",
        "\n",
        "file_list = []\n",
        "for i in range(3):\n",
        "    a = file.readline()\n",
        "    file_list.append(a)\n",
        "\n",
        "print(file_list)"
      ],
      "metadata": {
        "colab": {
          "base_uri": "https://localhost:8080/"
        },
        "id": "OnD9f81wJ4Kl",
        "outputId": "851ffec4-8ec9-4dce-ab9f-83e78f7c52d7"
      },
      "execution_count": 23,
      "outputs": [
        {
          "output_type": "stream",
          "name": "stdout",
          "text": [
            "['line 1,line 2, line 3, ', '', '']\n"
          ]
        }
      ]
    },
    {
      "cell_type": "markdown",
      "source": [
        "**10.How can you append data to an existing file in Python?**"
      ],
      "metadata": {
        "id": "90f6R1jII_oO"
      }
    },
    {
      "cell_type": "code",
      "source": [
        "# Open the file in append mode\n",
        "with open(\"example.txt\", \"a\") as file:\n",
        "    file.write(\"\\nThis is a new line appended to the file.\")\n",
        "\n",
        "print(\"Data appended successfully!\")\n"
      ],
      "metadata": {
        "colab": {
          "base_uri": "https://localhost:8080/"
        },
        "id": "-_RdpJnsLE4F",
        "outputId": "867c296e-aaea-4686-e87e-ff5ca3e5192c"
      },
      "execution_count": 27,
      "outputs": [
        {
          "output_type": "stream",
          "name": "stdout",
          "text": [
            "Data appended successfully!\n"
          ]
        }
      ]
    },
    {
      "cell_type": "markdown",
      "source": [
        "**11.Write a Python program that uses a try-except block to handle an error when attempting to access a dictionary key that doesn't exist.**\n"
      ],
      "metadata": {
        "id": "T2WQhwKzLY25"
      }
    },
    {
      "cell_type": "code",
      "source": [
        "# Define a dictionary\n",
        "data = {\"name\": \"Alice\", \"age\": 25, \"city\": \"New York\"}\n",
        "\n",
        "try:\n",
        "    # Attempt to access a key that does not exist\n",
        "    value = data[\"salary\"]\n",
        "    print(\"Salary:\", value)\n",
        "except KeyError as e:\n",
        "    print(f\"Error: The key '{e}' does not exist in the dictionary.\")\n"
      ],
      "metadata": {
        "colab": {
          "base_uri": "https://localhost:8080/"
        },
        "id": "SqPA_IlfLT5w",
        "outputId": "01876546-a1c2-452f-a2cf-a162bf30a611"
      },
      "execution_count": 32,
      "outputs": [
        {
          "output_type": "stream",
          "name": "stdout",
          "text": [
            "Error: The key ''salary'' does not exist in the dictionary.\n"
          ]
        }
      ]
    },
    {
      "cell_type": "markdown",
      "source": [
        "**12.Write a program that demonstrates using multiple except blocks to handle different types of exceptions.**"
      ],
      "metadata": {
        "id": "9OS8bLkPM_mS"
      }
    },
    {
      "cell_type": "code",
      "source": [
        "try:\n",
        "    # Taking user input for division\n",
        "    num1 = int(input(\"Enter numerator: \"))\n",
        "    num2 = int(input(\"Enter denominator: \"))\n",
        "\n",
        "    # Performing division\n",
        "    result = num1 / num2\n",
        "\n",
        "    # Accessing a dictionary key that may not exist\n",
        "    data = {\"name\": \"Alice\", \"age\": 25}\n",
        "    value = data[\"salary\"]  # KeyError if 'salary' doesn't exist\n",
        "\n",
        "except ZeroDivisionError:\n",
        "    print(\"Error: Cannot divide by zero!\")\n",
        "\n",
        "except ValueError:\n",
        "    print(\"Error: Invalid input! Please enter only numbers.\")\n",
        "\n",
        "except KeyError as e:\n",
        "    print(f\"Error: The key '{e}' does not exist in the dictionary.\")\n",
        "\n",
        "except Exception as e:\n",
        "    print(f\"An unexpected error occurred: {e}\")\n",
        "\n",
        "else:\n",
        "    print(f\"Result of division: {result}\")\n",
        "    print(\"No errors occurred!\")\n",
        "\n",
        "finally:\n",
        "    print(\"Execution completed.\")\n"
      ],
      "metadata": {
        "colab": {
          "base_uri": "https://localhost:8080/"
        },
        "id": "T-7eGrlfM84f",
        "outputId": "091feb7d-9b98-4201-bd21-2428278e35b9"
      },
      "execution_count": 33,
      "outputs": [
        {
          "output_type": "stream",
          "name": "stdout",
          "text": [
            "Enter numerator: 32\n",
            "Enter denominator: 32\n",
            "Error: The key ''salary'' does not exist in the dictionary.\n",
            "Execution completed.\n"
          ]
        }
      ]
    },
    {
      "cell_type": "markdown",
      "source": [
        "**13.How would you check if a file exists before attempting to read it in Python?**\n"
      ],
      "metadata": {
        "id": "W9Bz_mUHNkpp"
      }
    },
    {
      "cell_type": "code",
      "source": [
        "from pathlib import Path\n",
        "\n",
        "print(Path(\"file.txt\").exists())"
      ],
      "metadata": {
        "colab": {
          "base_uri": "https://localhost:8080/"
        },
        "id": "OhuzrpSAOCxa",
        "outputId": "b46edff0-5389-420e-cc18-69a49c5ff89b"
      },
      "execution_count": 37,
      "outputs": [
        {
          "output_type": "stream",
          "name": "stdout",
          "text": [
            "False\n"
          ]
        }
      ]
    },
    {
      "cell_type": "markdown",
      "source": [
        "**14.Write a program that uses the logging module to log both informational and error messages.**"
      ],
      "metadata": {
        "id": "KhxgfzMvONAU"
      }
    },
    {
      "cell_type": "code",
      "source": [
        "import logging\n",
        "\n",
        "# Configure logging settings\n",
        "logging.basicConfig(filename=\"file.log\", level=logging.INFO)\n",
        "\n",
        "# Logging messages\n",
        "logging.info(\"This is an informational message about the log file.\")\n",
        "logging.error(\"Error occurs when running the file.\")\n"
      ],
      "metadata": {
        "colab": {
          "base_uri": "https://localhost:8080/"
        },
        "id": "dut8BSgNObc-",
        "outputId": "2e61dac1-3050-4456-a6c8-a06c15d22e91"
      },
      "execution_count": 39,
      "outputs": [
        {
          "output_type": "stream",
          "name": "stderr",
          "text": [
            "ERROR:root:Error occurs when running the file.\n"
          ]
        }
      ]
    },
    {
      "cell_type": "markdown",
      "source": [
        "**15.Write a Python program that prints the content of a file and handles the case when the file is empty.**"
      ],
      "metadata": {
        "id": "Fprxfxw3Oust"
      }
    },
    {
      "cell_type": "code",
      "source": [
        "try:\n",
        "    with open(\"test.txt\", \"r\") as file:  # Automatically closes the file\n",
        "        content = file.read()\n",
        "\n",
        "    if content:  # Check if file is empty\n",
        "        print(content)\n",
        "    else:\n",
        "        print(\"The file is empty.\")\n",
        "\n",
        "except FileNotFoundError:\n",
        "    print(\"Error: The file 'test.txt' does not exist.\")\n",
        "\n",
        "except Exception as e:\n",
        "    print(f\"Unexpected error: {e}\")\n"
      ],
      "metadata": {
        "colab": {
          "base_uri": "https://localhost:8080/"
        },
        "id": "F-Ji45_tO-W4",
        "outputId": "f312fa81-a9db-4c93-893d-07fe97afbcba"
      },
      "execution_count": 41,
      "outputs": [
        {
          "output_type": "stream",
          "name": "stdout",
          "text": [
            "Error: The file 'test.txt' does not exist.\n"
          ]
        }
      ]
    },
    {
      "cell_type": "markdown",
      "source": [
        "**16.Demonstrate how to use memory profiling to check the memory usage of a small program.**"
      ],
      "metadata": {
        "id": "Eb2aMsRCPNOx"
      }
    },
    {
      "cell_type": "code",
      "source": [
        "from memory_profiler import profile\n",
        "\n",
        "@profile\n",
        "def memory_intensive_function():\n",
        "    # Creating a large list to consume memory\n",
        "    data = [i for i in range(1000000)]\n",
        "    print(\"List created.\")\n",
        "    return sum(data)  # Summing up the list\n",
        "\n",
        "if __name__ == \"__main__\":\n",
        "    result = memory_intensive_function()\n",
        "    print(\"Sum:\", result)\n"
      ],
      "metadata": {
        "colab": {
          "base_uri": "https://localhost:8080/",
          "height": 383
        },
        "id": "0yJSFNBFPLGu",
        "outputId": "62bd6b20-4597-4a0b-bfe5-78ed7dbf8d75"
      },
      "execution_count": 42,
      "outputs": [
        {
          "output_type": "error",
          "ename": "ModuleNotFoundError",
          "evalue": "No module named 'memory_profiler'",
          "traceback": [
            "\u001b[0;31m---------------------------------------------------------------------------\u001b[0m",
            "\u001b[0;31mModuleNotFoundError\u001b[0m                       Traceback (most recent call last)",
            "\u001b[0;32m<ipython-input-42-5afc3bacd27c>\u001b[0m in \u001b[0;36m<cell line: 0>\u001b[0;34m()\u001b[0m\n\u001b[0;32m----> 1\u001b[0;31m \u001b[0;32mfrom\u001b[0m \u001b[0mmemory_profiler\u001b[0m \u001b[0;32mimport\u001b[0m \u001b[0mprofile\u001b[0m\u001b[0;34m\u001b[0m\u001b[0;34m\u001b[0m\u001b[0m\n\u001b[0m\u001b[1;32m      2\u001b[0m \u001b[0;34m\u001b[0m\u001b[0m\n\u001b[1;32m      3\u001b[0m \u001b[0;34m@\u001b[0m\u001b[0mprofile\u001b[0m\u001b[0;34m\u001b[0m\u001b[0;34m\u001b[0m\u001b[0m\n\u001b[1;32m      4\u001b[0m \u001b[0;32mdef\u001b[0m \u001b[0mmemory_intensive_function\u001b[0m\u001b[0;34m(\u001b[0m\u001b[0;34m)\u001b[0m\u001b[0;34m:\u001b[0m\u001b[0;34m\u001b[0m\u001b[0;34m\u001b[0m\u001b[0m\n\u001b[1;32m      5\u001b[0m     \u001b[0;31m# Creating a large list to consume memory\u001b[0m\u001b[0;34m\u001b[0m\u001b[0;34m\u001b[0m\u001b[0m\n",
            "\u001b[0;31mModuleNotFoundError\u001b[0m: No module named 'memory_profiler'",
            "",
            "\u001b[0;31m---------------------------------------------------------------------------\u001b[0;32m\nNOTE: If your import is failing due to a missing package, you can\nmanually install dependencies using either !pip or !apt.\n\nTo view examples of installing some common dependencies, click the\n\"Open Examples\" button below.\n\u001b[0;31m---------------------------------------------------------------------------\u001b[0m\n"
          ],
          "errorDetails": {
            "actions": [
              {
                "action": "open_url",
                "actionText": "Open Examples",
                "url": "/notebooks/snippets/importing_libraries.ipynb"
              }
            ]
          }
        }
      ]
    },
    {
      "cell_type": "code",
      "source": [
        "import os\n",
        "import psutil  # Built-in in most Python environments\n",
        "\n",
        "def get_memory_usage():\n",
        "    \"\"\"Returns the memory usage of the current process in MB.\"\"\"\n",
        "    process = psutil.Process(os.getpid())\n",
        "    mem_info = process.memory_info().rss / (1024 * 1024)  # Convert bytes to MB\n",
        "    return mem_info\n",
        "\n",
        "# Example usage\n",
        "before_memory = get_memory_usage()\n",
        "\n",
        "# Creating a large list to consume memory\n",
        "data = [i for i in range(1000000)]\n",
        "\n",
        "after_memory = get_memory_usage()\n",
        "\n",
        "print(f\"Memory before operation: {before_memory:.2f} MB\")\n",
        "print(f\"Memory after operation: {after_memory:.2f} MB\")\n",
        "print(f\"Memory used: {after_memory - before_memory:.2f} MB\")\n"
      ],
      "metadata": {
        "colab": {
          "base_uri": "https://localhost:8080/"
        },
        "id": "xdzubFpFPcwg",
        "outputId": "fc6f04b3-62ad-4898-f662-db229206e9ee"
      },
      "execution_count": 45,
      "outputs": [
        {
          "output_type": "stream",
          "name": "stdout",
          "text": [
            "Memory before operation: 141.41 MB\n",
            "Memory after operation: 176.48 MB\n",
            "Memory used: 35.06 MB\n"
          ]
        }
      ]
    },
    {
      "cell_type": "markdown",
      "source": [
        "**17.Write a Python program to create and write a list of numbers to a file, one number per line.**"
      ],
      "metadata": {
        "id": "HStcNP1RQCJf"
      }
    },
    {
      "cell_type": "code",
      "source": [
        "numbers = [1, 2, 3, 4, 5]\n",
        "\n",
        "with open(\"list_file.txt\", \"w\") as file:\n",
        "    for i in numbers:\n",
        "        file.write(f\"{i}\\n\")\n",
        "\n",
        "print(\"Numbers have been written to 'list_file.txt'.\")\n"
      ],
      "metadata": {
        "colab": {
          "base_uri": "https://localhost:8080/"
        },
        "id": "rDLX-NUBP1XJ",
        "outputId": "43ad20e3-baad-45f0-8fe8-70317f135349"
      },
      "execution_count": 46,
      "outputs": [
        {
          "output_type": "stream",
          "name": "stdout",
          "text": [
            "Numbers have been written to 'list_file.txt'.\n"
          ]
        }
      ]
    },
    {
      "cell_type": "markdown",
      "source": [
        "**18.How would you implement a basic logging setup that logs to a file with rotation after 1MB?**\n"
      ],
      "metadata": {
        "id": "z2zQvWkTQZB-"
      }
    },
    {
      "cell_type": "code",
      "source": [
        "import logging\n",
        "import time\n",
        "from logging.handlers import RotatingFileHandler\n",
        "\n",
        "def create_rotating_handler(path):\n",
        "    logger = logging.getLogger(\"Rotating Log\")\n",
        "    logger.setLevel(logging.INFO)\n",
        "\n",
        "    # Rotating file handler with 1MB max size and 3 backup logs\n",
        "    handler = RotatingFileHandler(path, maxBytes=1_048_576, backupCount=3)\n",
        "    handler.setLevel(logging.INFO)\n",
        "\n",
        "\n",
        "    formatter = logging.Formatter('%(asctime)s - %(levelname)s - %(message)s')\n",
        "    handler.setFormatter(formatter)\n",
        "\n",
        "    logger.addHandler(handler)\n",
        "\n",
        "    # Writing log messages\n",
        "    for i in range(10):\n",
        "        logger.info(\"This is test log line %s\" % i)\n",
        "        time.sleep(1)  # Simulate delay between logs\n",
        "\n",
        "if __name__ == \"__main__\":\n",
        "    log_file = \"test_log.log\"\n",
        "    create_rotating_handler(log_file)\n",
        "\n",
        "print(\"Logging setup complete. Check 'test_log.log' and rotated logs.\")\n"
      ],
      "metadata": {
        "colab": {
          "base_uri": "https://localhost:8080/"
        },
        "id": "JAAfo4I5Qpcg",
        "outputId": "b5a242da-4f7c-4186-fe40-20eb1f65a132"
      },
      "execution_count": 49,
      "outputs": [
        {
          "output_type": "stream",
          "name": "stderr",
          "text": [
            "INFO:Rotating Log:This is test log line 0\n",
            "INFO:Rotating Log:This is test log line 1\n",
            "INFO:Rotating Log:This is test log line 2\n",
            "INFO:Rotating Log:This is test log line 3\n",
            "INFO:Rotating Log:This is test log line 4\n",
            "INFO:Rotating Log:This is test log line 5\n",
            "INFO:Rotating Log:This is test log line 6\n",
            "INFO:Rotating Log:This is test log line 7\n",
            "INFO:Rotating Log:This is test log line 8\n",
            "INFO:Rotating Log:This is test log line 9\n"
          ]
        },
        {
          "output_type": "stream",
          "name": "stdout",
          "text": [
            "Logging setup complete. Check 'test_log.log' and rotated logs.\n"
          ]
        }
      ]
    },
    {
      "cell_type": "markdown",
      "source": [
        "**19.Write a program that handles both IndexError and KeyError using a try-except block.**"
      ],
      "metadata": {
        "id": "jlpXeijxRNuo"
      }
    },
    {
      "cell_type": "code",
      "source": [
        "try:\n",
        "    # List (IndexError possibility)\n",
        "    my_list = [10, 20, 30]\n",
        "    print(\"Accessing list element:\", my_list[5])  # IndexError: Out of range\n",
        "\n",
        "    # Dictionary (KeyError possibility)\n",
        "    my_dict = {\"name\": \"Alice\", \"age\": 25}\n",
        "    print(\"Accessing dictionary value:\", my_dict[\"city\"])  # KeyError: Key not found\n",
        "\n",
        "except IndexError as e:\n",
        "    print(f\"IndexError Occurred: {e}\")\n",
        "\n",
        "except KeyError as e:\n",
        "    print(f\"KeyError Occurred: {e}\")\n",
        "\n",
        "print(\"Program continues execution normally.\")\n"
      ],
      "metadata": {
        "colab": {
          "base_uri": "https://localhost:8080/"
        },
        "id": "d5mH8EphRLr3",
        "outputId": "3405ba4f-c791-4a68-b7ab-482fb01a07a6"
      },
      "execution_count": 52,
      "outputs": [
        {
          "output_type": "stream",
          "name": "stdout",
          "text": [
            "IndexError Occurred: list index out of range\n",
            "Program continues execution normally.\n"
          ]
        }
      ]
    },
    {
      "cell_type": "markdown",
      "source": [
        "**20.How would you open a file and read its contents using a context manager in Python?**"
      ],
      "metadata": {
        "id": "1bT2AxIuRpPl"
      }
    },
    {
      "cell_type": "code",
      "source": [
        "filename = \"example.txt\"\n",
        "\n",
        "# Open and read the file using 'with' (context manager)\n",
        "with open(filename, \"r\") as file:\n",
        "    content = file.read()  # Read entire file content\n",
        "    print(content)  # Display content\n"
      ],
      "metadata": {
        "id": "eSPupEIrR0J_",
        "outputId": "c64db72a-864b-4d83-a0e6-75b68b37b92e",
        "colab": {
          "base_uri": "https://localhost:8080/"
        }
      },
      "execution_count": 54,
      "outputs": [
        {
          "output_type": "stream",
          "name": "stdout",
          "text": [
            "Hello, this is a test string!\n"
          ]
        }
      ]
    },
    {
      "cell_type": "markdown",
      "source": [
        "**21. Write a Python program that reads a file and prints the number of occurrences of a specific word.**"
      ],
      "metadata": {
        "id": "yS3Mr6CER_bH"
      }
    },
    {
      "cell_type": "code",
      "source": [
        "file = open(\"test_file.txt\", \"r\")\n",
        "\n",
        "a = file.read()\n",
        "print(a.count(\"line\"))"
      ],
      "metadata": {
        "id": "y9dqsaUWSFF3",
        "outputId": "8b92b2ed-8dcd-45d5-fb20-cf6f9f062c75",
        "colab": {
          "base_uri": "https://localhost:8080/"
        }
      },
      "execution_count": 59,
      "outputs": [
        {
          "output_type": "stream",
          "name": "stdout",
          "text": [
            "3\n"
          ]
        }
      ]
    },
    {
      "cell_type": "markdown",
      "source": [
        "**22.How can you check if a file is empty before attempting to read its contents?**"
      ],
      "metadata": {
        "id": "0m0PQLAxShpk"
      }
    },
    {
      "cell_type": "code",
      "source": [
        "from pathlib import Path\n",
        "\n",
        "filename = Path(\"example.txt\")\n",
        "\n",
        "\n",
        "if filename.exists() and filename.stat().st_size > 0:\n",
        "    with filename.open(\"r\") as file:\n",
        "        content = file.read()\n",
        "        print(\"File content:\\n\", content)\n",
        "else:\n",
        "    print(f\"The file '{filename}' is empty or does not exist.\")\n"
      ],
      "metadata": {
        "id": "VIZUH21KS8-6",
        "outputId": "d1055937-299b-4f23-b200-b81704fe491e",
        "colab": {
          "base_uri": "https://localhost:8080/"
        }
      },
      "execution_count": 62,
      "outputs": [
        {
          "output_type": "stream",
          "name": "stdout",
          "text": [
            "File content:\n",
            " Hello, this is a test string!\n"
          ]
        }
      ]
    },
    {
      "cell_type": "markdown",
      "source": [
        "**23.Write a Python program that writes to a log file when an error occurs during file handling.**\n"
      ],
      "metadata": {
        "id": "Bg1tDy3vTEY4"
      }
    },
    {
      "cell_type": "code",
      "source": [
        "import logging\n",
        "\n",
        "# Configure logging (set level, format)\n",
        "logging.basicConfig(filename=\"file.log\", level=logging.ERROR,\n",
        "                    format=\"%(asctime)s - %(levelname)s - %(message)s\")\n",
        "\n",
        "try:\n",
        "    with open(\"file.txt\", \"r\") as file:\n",
        "        content = file.read()  # Properly read the file\n",
        "        print(\"File content:\\n\", content)\n",
        "except FileNotFoundError:\n",
        "    logging.error(\"Error: The file 'file.txt' was not found.\")\n",
        "    print(\"Error: The file does not exist.\")\n",
        "except PermissionError:\n",
        "    logging.error(\"Error: Permission denied for 'file.txt'.\")\n",
        "    print(\"Error: You don't have permission to access this file.\")\n",
        "except Exception as e:\n",
        "    logging.error(f\"Unexpected error: {e}\")\n",
        "    print(f\"Error: {e}\")\n"
      ],
      "metadata": {
        "id": "t4owqmCZTR5f",
        "outputId": "12d94dcc-ab55-4a5e-8990-aa9f95a535ec",
        "colab": {
          "base_uri": "https://localhost:8080/"
        }
      },
      "execution_count": 64,
      "outputs": [
        {
          "output_type": "stream",
          "name": "stderr",
          "text": [
            "ERROR:root:Error: The file 'file.txt' was not found.\n"
          ]
        },
        {
          "output_type": "stream",
          "name": "stdout",
          "text": [
            "Error: The file does not exist.\n"
          ]
        }
      ]
    },
    {
      "cell_type": "code",
      "source": [],
      "metadata": {
        "id": "e0EpagPPThXK"
      },
      "execution_count": null,
      "outputs": []
    }
  ]
}